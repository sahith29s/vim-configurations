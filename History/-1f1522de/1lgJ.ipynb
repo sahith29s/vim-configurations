{
 "cells": [
  {
   "cell_type": "code",
   "execution_count": 6,
   "metadata": {},
   "outputs": [],
   "source": [
    "import numpy as np\n",
    "import pandas as pd"
   ]
  },
  {
   "cell_type": "code",
   "execution_count": 7,
   "metadata": {},
   "outputs": [],
   "source": [
    "dict1 = {\n",
    "    \"name\" : [\"sahith\" , \"pradeep\" , \"Rigved\"],\n",
    "    \"marks\" : [ 99, 99, 99],\n",
    "    \"city\" : [\"Hyderabad\" , \"Hyd\" , \"SanathNagar\"]\n",
    "}"
   ]
  },
  {
   "cell_type": "code",
   "execution_count": 8,
   "metadata": {},
   "outputs": [],
   "source": [
    "df = pd.DataFrame(dict1)\n"
   ]
  },
  {
   "cell_type": "code",
   "execution_count": null,
   "metadata": {},
   "outputs": [],
   "source": []
  },
  {
   "cell_type": "code",
   "execution_count": 9,
   "metadata": {},
   "outputs": [
    {
     "data": {
      "text/plain": [
       "0     sahith\n",
       "1    pradeep\n",
       "2     Rigved\n",
       "Name: name, dtype: object"
      ]
     },
     "execution_count": 9,
     "metadata": {},
     "output_type": "execute_result"
    }
   ],
   "source": [
    "df[\"name\"]"
   ]
  },
  {
   "cell_type": "code",
   "execution_count": 10,
   "metadata": {},
   "outputs": [
    {
     "data": {
      "text/plain": [
       "pandas.core.series.Series"
      ]
     },
     "execution_count": 10,
     "metadata": {},
     "output_type": "execute_result"
    }
   ],
   "source": [
    "type(df[\"name\"])"
   ]
  },
  {
   "cell_type": "code",
   "execution_count": 11,
   "metadata": {},
   "outputs": [],
   "source": [
    "ser = pd.Series(np.random.rand(10))"
   ]
  },
  {
   "cell_type": "code",
   "execution_count": 12,
   "metadata": {},
   "outputs": [
    {
     "data": {
      "text/plain": [
       "0    0.408217\n",
       "1    0.206139\n",
       "2    0.285837\n",
       "3    0.891711\n",
       "4    0.101385\n",
       "5    0.125573\n",
       "6    0.889800\n",
       "7    0.210918\n",
       "8    0.859874\n",
       "9    0.092666\n",
       "dtype: float64"
      ]
     },
     "execution_count": 12,
     "metadata": {},
     "output_type": "execute_result"
    }
   ],
   "source": [
    "\n",
    "ser"
   ]
  },
  {
   "cell_type": "code",
   "execution_count": 13,
   "metadata": {},
   "outputs": [],
   "source": [
    "newdf = pd.DataFrame(np.random.rand(334, 5), index=np.arange(334))"
   ]
  },
  {
   "cell_type": "code",
   "execution_count": 14,
   "metadata": {},
   "outputs": [
    {
     "data": {
      "text/html": [
       "<div>\n",
       "<style scoped>\n",
       "    .dataframe tbody tr th:only-of-type {\n",
       "        vertical-align: middle;\n",
       "    }\n",
       "\n",
       "    .dataframe tbody tr th {\n",
       "        vertical-align: top;\n",
       "    }\n",
       "\n",
       "    .dataframe thead th {\n",
       "        text-align: right;\n",
       "    }\n",
       "</style>\n",
       "<table border=\"1\" class=\"dataframe\">\n",
       "  <thead>\n",
       "    <tr style=\"text-align: right;\">\n",
       "      <th></th>\n",
       "      <th>0</th>\n",
       "      <th>1</th>\n",
       "      <th>2</th>\n",
       "      <th>3</th>\n",
       "      <th>4</th>\n",
       "    </tr>\n",
       "  </thead>\n",
       "  <tbody>\n",
       "    <tr>\n",
       "      <th>0</th>\n",
       "      <td>0.615973</td>\n",
       "      <td>0.800139</td>\n",
       "      <td>0.604976</td>\n",
       "      <td>0.517969</td>\n",
       "      <td>0.520464</td>\n",
       "    </tr>\n",
       "    <tr>\n",
       "      <th>1</th>\n",
       "      <td>0.041926</td>\n",
       "      <td>0.210879</td>\n",
       "      <td>0.089005</td>\n",
       "      <td>0.214849</td>\n",
       "      <td>0.122391</td>\n",
       "    </tr>\n",
       "    <tr>\n",
       "      <th>2</th>\n",
       "      <td>0.940576</td>\n",
       "      <td>0.446345</td>\n",
       "      <td>0.183349</td>\n",
       "      <td>0.421913</td>\n",
       "      <td>0.414343</td>\n",
       "    </tr>\n",
       "    <tr>\n",
       "      <th>3</th>\n",
       "      <td>0.327791</td>\n",
       "      <td>0.370614</td>\n",
       "      <td>0.691902</td>\n",
       "      <td>0.822032</td>\n",
       "      <td>0.816141</td>\n",
       "    </tr>\n",
       "    <tr>\n",
       "      <th>4</th>\n",
       "      <td>0.739672</td>\n",
       "      <td>0.795315</td>\n",
       "      <td>0.704740</td>\n",
       "      <td>0.254469</td>\n",
       "      <td>0.125130</td>\n",
       "    </tr>\n",
       "    <tr>\n",
       "      <th>...</th>\n",
       "      <td>...</td>\n",
       "      <td>...</td>\n",
       "      <td>...</td>\n",
       "      <td>...</td>\n",
       "      <td>...</td>\n",
       "    </tr>\n",
       "    <tr>\n",
       "      <th>329</th>\n",
       "      <td>0.188711</td>\n",
       "      <td>0.823027</td>\n",
       "      <td>0.229938</td>\n",
       "      <td>0.427655</td>\n",
       "      <td>0.344579</td>\n",
       "    </tr>\n",
       "    <tr>\n",
       "      <th>330</th>\n",
       "      <td>0.632016</td>\n",
       "      <td>0.231801</td>\n",
       "      <td>0.261181</td>\n",
       "      <td>0.488811</td>\n",
       "      <td>0.759779</td>\n",
       "    </tr>\n",
       "    <tr>\n",
       "      <th>331</th>\n",
       "      <td>0.257152</td>\n",
       "      <td>0.248383</td>\n",
       "      <td>0.030006</td>\n",
       "      <td>0.071372</td>\n",
       "      <td>0.698521</td>\n",
       "    </tr>\n",
       "    <tr>\n",
       "      <th>332</th>\n",
       "      <td>0.478713</td>\n",
       "      <td>0.766185</td>\n",
       "      <td>0.616271</td>\n",
       "      <td>0.258913</td>\n",
       "      <td>0.343968</td>\n",
       "    </tr>\n",
       "    <tr>\n",
       "      <th>333</th>\n",
       "      <td>0.330151</td>\n",
       "      <td>0.410162</td>\n",
       "      <td>0.138807</td>\n",
       "      <td>0.190508</td>\n",
       "      <td>0.336627</td>\n",
       "    </tr>\n",
       "  </tbody>\n",
       "</table>\n",
       "<p>334 rows × 5 columns</p>\n",
       "</div>"
      ],
      "text/plain": [
       "            0         1         2         3         4\n",
       "0    0.615973  0.800139  0.604976  0.517969  0.520464\n",
       "1    0.041926  0.210879  0.089005  0.214849  0.122391\n",
       "2    0.940576  0.446345  0.183349  0.421913  0.414343\n",
       "3    0.327791  0.370614  0.691902  0.822032  0.816141\n",
       "4    0.739672  0.795315  0.704740  0.254469  0.125130\n",
       "..        ...       ...       ...       ...       ...\n",
       "329  0.188711  0.823027  0.229938  0.427655  0.344579\n",
       "330  0.632016  0.231801  0.261181  0.488811  0.759779\n",
       "331  0.257152  0.248383  0.030006  0.071372  0.698521\n",
       "332  0.478713  0.766185  0.616271  0.258913  0.343968\n",
       "333  0.330151  0.410162  0.138807  0.190508  0.336627\n",
       "\n",
       "[334 rows x 5 columns]"
      ]
     },
     "execution_count": 14,
     "metadata": {},
     "output_type": "execute_result"
    }
   ],
   "source": [
    "newdf"
   ]
  },
  {
   "cell_type": "code",
   "execution_count": null,
   "metadata": {},
   "outputs": [],
   "source": []
  }
 ],
 "metadata": {
  "kernelspec": {
   "display_name": "Python 3",
   "language": "python",
   "name": "python3"
  },
  "language_info": {
   "codemirror_mode": {
    "name": "ipython",
    "version": 3
   },
   "file_extension": ".py",
   "mimetype": "text/x-python",
   "name": "python",
   "nbconvert_exporter": "python",
   "pygments_lexer": "ipython3",
   "version": "3.10.12"
  },
  "orig_nbformat": 4
 },
 "nbformat": 4,
 "nbformat_minor": 2
}
